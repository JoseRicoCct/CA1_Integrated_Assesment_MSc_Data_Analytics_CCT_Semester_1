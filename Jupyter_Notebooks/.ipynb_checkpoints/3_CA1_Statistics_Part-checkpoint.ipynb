{
 "cells": [
  {
   "cell_type": "code",
   "execution_count": 1,
   "id": "85779436",
   "metadata": {},
   "outputs": [],
   "source": [
    "# importing libraries\n",
    "import pandas as pd\n",
    "import numpy as np\n",
    "import seaborn as sns\n",
    "import matplotlib.pyplot as plt\n",
    "from scipy.stats import binom, norm, poisson\n",
    "import warnings\n",
    "warnings.filterwarnings('ignore')\n",
    "from IPython.display import Image\n"
   ]
  },
  {
   "cell_type": "code",
   "execution_count": 2,
   "id": "9e23fe1e",
   "metadata": {},
   "outputs": [],
   "source": [
    "#Image(filename =r'Statistics.png', width = 1000, height = 300)"
   ]
  },
  {
   "cell_type": "code",
   "execution_count": 3,
   "id": "432b4547",
   "metadata": {},
   "outputs": [],
   "source": [
    "# Loading the dataset:\n",
    "df3 = pd.read_csv('..\\\\Datasets_data.cso.ie\\\\PEA19.20231004T131056.csv')"
   ]
  },
  {
   "cell_type": "code",
   "execution_count": 4,
   "id": "ddd21193",
   "metadata": {},
   "outputs": [
    {
     "data": {
      "text/html": [
       "<div>\n",
       "<style scoped>\n",
       "    .dataframe tbody tr th:only-of-type {\n",
       "        vertical-align: middle;\n",
       "    }\n",
       "\n",
       "    .dataframe tbody tr th {\n",
       "        vertical-align: top;\n",
       "    }\n",
       "\n",
       "    .dataframe thead th {\n",
       "        text-align: right;\n",
       "    }\n",
       "</style>\n",
       "<table border=\"1\" class=\"dataframe\">\n",
       "  <thead>\n",
       "    <tr style=\"text-align: right;\">\n",
       "      <th></th>\n",
       "      <th>STATISTIC Label</th>\n",
       "      <th>Year</th>\n",
       "      <th>Sex</th>\n",
       "      <th>Education Level</th>\n",
       "      <th>Inward or Outward Flow</th>\n",
       "      <th>UNIT</th>\n",
       "      <th>VALUE</th>\n",
       "    </tr>\n",
       "  </thead>\n",
       "  <tbody>\n",
       "    <tr>\n",
       "      <th>0</th>\n",
       "      <td>Estimated Migration Aged 15 Years and Over  (P...</td>\n",
       "      <td>2009</td>\n",
       "      <td>Both sexes</td>\n",
       "      <td>Higher secondary and below</td>\n",
       "      <td>Net migration</td>\n",
       "      <td>Thousand</td>\n",
       "      <td>-9.7</td>\n",
       "    </tr>\n",
       "    <tr>\n",
       "      <th>1</th>\n",
       "      <td>Estimated Migration Aged 15 Years and Over  (P...</td>\n",
       "      <td>2009</td>\n",
       "      <td>Both sexes</td>\n",
       "      <td>Higher secondary and below</td>\n",
       "      <td>Emigrants: All destinations</td>\n",
       "      <td>Thousand</td>\n",
       "      <td>31.6</td>\n",
       "    </tr>\n",
       "    <tr>\n",
       "      <th>2</th>\n",
       "      <td>Estimated Migration Aged 15 Years and Over  (P...</td>\n",
       "      <td>2009</td>\n",
       "      <td>Both sexes</td>\n",
       "      <td>Higher secondary and below</td>\n",
       "      <td>Immigrants: All origins</td>\n",
       "      <td>Thousand</td>\n",
       "      <td>21.9</td>\n",
       "    </tr>\n",
       "    <tr>\n",
       "      <th>3</th>\n",
       "      <td>Estimated Migration Aged 15 Years and Over  (P...</td>\n",
       "      <td>2009</td>\n",
       "      <td>Both sexes</td>\n",
       "      <td>Post leaving cert</td>\n",
       "      <td>Net migration</td>\n",
       "      <td>Thousand</td>\n",
       "      <td>-0.2</td>\n",
       "    </tr>\n",
       "    <tr>\n",
       "      <th>4</th>\n",
       "      <td>Estimated Migration Aged 15 Years and Over  (P...</td>\n",
       "      <td>2009</td>\n",
       "      <td>Both sexes</td>\n",
       "      <td>Post leaving cert</td>\n",
       "      <td>Emigrants: All destinations</td>\n",
       "      <td>Thousand</td>\n",
       "      <td>6.7</td>\n",
       "    </tr>\n",
       "  </tbody>\n",
       "</table>\n",
       "</div>"
      ],
      "text/plain": [
       "                                     STATISTIC Label  Year         Sex  \\\n",
       "0  Estimated Migration Aged 15 Years and Over  (P...  2009  Both sexes   \n",
       "1  Estimated Migration Aged 15 Years and Over  (P...  2009  Both sexes   \n",
       "2  Estimated Migration Aged 15 Years and Over  (P...  2009  Both sexes   \n",
       "3  Estimated Migration Aged 15 Years and Over  (P...  2009  Both sexes   \n",
       "4  Estimated Migration Aged 15 Years and Over  (P...  2009  Both sexes   \n",
       "\n",
       "              Education Level       Inward or Outward Flow      UNIT  VALUE  \n",
       "0  Higher secondary and below                Net migration  Thousand   -9.7  \n",
       "1  Higher secondary and below  Emigrants: All destinations  Thousand   31.6  \n",
       "2  Higher secondary and below      Immigrants: All origins  Thousand   21.9  \n",
       "3           Post leaving cert                Net migration  Thousand   -0.2  \n",
       "4           Post leaving cert  Emigrants: All destinations  Thousand    6.7  "
      ]
     },
     "execution_count": 4,
     "metadata": {},
     "output_type": "execute_result"
    }
   ],
   "source": [
    "# Displaying first 5 rows:\n",
    "df3.head()"
   ]
  },
  {
   "cell_type": "code",
   "execution_count": 5,
   "id": "b15ae69d",
   "metadata": {},
   "outputs": [],
   "source": [
    "# Dropping the 'STATISTIC Label' column it's irrelevant for the analysis\n",
    "df3_col_drop = ['STATISTIC Label','UNIT']\n",
    "df3.drop(df3_col_drop ,axis=1, inplace=True) "
   ]
  },
  {
   "cell_type": "code",
   "execution_count": 6,
   "id": "d2443eb7",
   "metadata": {},
   "outputs": [],
   "source": [
    "# Renaming the columns\n",
    "df3 = df3.rename(columns={'Education Level': 'Education_Level','Inward or Outward Flow':'Inward_or_Outward_Flow'})"
   ]
  },
  {
   "cell_type": "code",
   "execution_count": 7,
   "id": "f4285788",
   "metadata": {},
   "outputs": [],
   "source": [
    "# Dropping rows based on criteria\n",
    "df3 = df3[~((df3['Sex'] == 'Both sexes') | (df3['Inward_or_Outward_Flow'] == 'Net migration') | (df3['Education_Level'] == 'All persons'))]\n",
    "\n",
    "df3['VALUE'] = df3['VALUE'].apply(lambda x: x * 1000)"
   ]
  },
  {
   "cell_type": "code",
   "execution_count": 8,
   "id": "9041ff04",
   "metadata": {},
   "outputs": [
    {
     "data": {
      "text/html": [
       "<div>\n",
       "<style scoped>\n",
       "    .dataframe tbody tr th:only-of-type {\n",
       "        vertical-align: middle;\n",
       "    }\n",
       "\n",
       "    .dataframe tbody tr th {\n",
       "        vertical-align: top;\n",
       "    }\n",
       "\n",
       "    .dataframe thead th {\n",
       "        text-align: right;\n",
       "    }\n",
       "</style>\n",
       "<table border=\"1\" class=\"dataframe\">\n",
       "  <thead>\n",
       "    <tr style=\"text-align: right;\">\n",
       "      <th></th>\n",
       "      <th>Year</th>\n",
       "      <th>Sex</th>\n",
       "      <th>Education_Level</th>\n",
       "      <th>Inward_or_Outward_Flow</th>\n",
       "      <th>VALUE</th>\n",
       "    </tr>\n",
       "  </thead>\n",
       "  <tbody>\n",
       "    <tr>\n",
       "      <th>16</th>\n",
       "      <td>2009</td>\n",
       "      <td>Male</td>\n",
       "      <td>Higher secondary and below</td>\n",
       "      <td>Emigrants: All destinations</td>\n",
       "      <td>18600.0</td>\n",
       "    </tr>\n",
       "    <tr>\n",
       "      <th>17</th>\n",
       "      <td>2009</td>\n",
       "      <td>Male</td>\n",
       "      <td>Higher secondary and below</td>\n",
       "      <td>Immigrants: All origins</td>\n",
       "      <td>11700.0</td>\n",
       "    </tr>\n",
       "    <tr>\n",
       "      <th>19</th>\n",
       "      <td>2009</td>\n",
       "      <td>Male</td>\n",
       "      <td>Post leaving cert</td>\n",
       "      <td>Emigrants: All destinations</td>\n",
       "      <td>5100.0</td>\n",
       "    </tr>\n",
       "    <tr>\n",
       "      <th>20</th>\n",
       "      <td>2009</td>\n",
       "      <td>Male</td>\n",
       "      <td>Post leaving cert</td>\n",
       "      <td>Immigrants: All origins</td>\n",
       "      <td>2900.0</td>\n",
       "    </tr>\n",
       "    <tr>\n",
       "      <th>22</th>\n",
       "      <td>2009</td>\n",
       "      <td>Male</td>\n",
       "      <td>Third level</td>\n",
       "      <td>Emigrants: All destinations</td>\n",
       "      <td>13600.0</td>\n",
       "    </tr>\n",
       "    <tr>\n",
       "      <th>...</th>\n",
       "      <td>...</td>\n",
       "      <td>...</td>\n",
       "      <td>...</td>\n",
       "      <td>...</td>\n",
       "      <td>...</td>\n",
       "    </tr>\n",
       "    <tr>\n",
       "      <th>620</th>\n",
       "      <td>2022</td>\n",
       "      <td>Female</td>\n",
       "      <td>Post leaving cert</td>\n",
       "      <td>Immigrants: All origins</td>\n",
       "      <td>1200.0</td>\n",
       "    </tr>\n",
       "    <tr>\n",
       "      <th>622</th>\n",
       "      <td>2022</td>\n",
       "      <td>Female</td>\n",
       "      <td>Third level</td>\n",
       "      <td>Emigrants: All destinations</td>\n",
       "      <td>14400.0</td>\n",
       "    </tr>\n",
       "    <tr>\n",
       "      <th>623</th>\n",
       "      <td>2022</td>\n",
       "      <td>Female</td>\n",
       "      <td>Third level</td>\n",
       "      <td>Immigrants: All origins</td>\n",
       "      <td>40300.0</td>\n",
       "    </tr>\n",
       "    <tr>\n",
       "      <th>625</th>\n",
       "      <td>2022</td>\n",
       "      <td>Female</td>\n",
       "      <td>Not stated</td>\n",
       "      <td>Emigrants: All destinations</td>\n",
       "      <td>1300.0</td>\n",
       "    </tr>\n",
       "    <tr>\n",
       "      <th>626</th>\n",
       "      <td>2022</td>\n",
       "      <td>Female</td>\n",
       "      <td>Not stated</td>\n",
       "      <td>Immigrants: All origins</td>\n",
       "      <td>3900.0</td>\n",
       "    </tr>\n",
       "  </tbody>\n",
       "</table>\n",
       "<p>224 rows × 5 columns</p>\n",
       "</div>"
      ],
      "text/plain": [
       "     Year     Sex             Education_Level       Inward_or_Outward_Flow  \\\n",
       "16   2009    Male  Higher secondary and below  Emigrants: All destinations   \n",
       "17   2009    Male  Higher secondary and below      Immigrants: All origins   \n",
       "19   2009    Male           Post leaving cert  Emigrants: All destinations   \n",
       "20   2009    Male           Post leaving cert      Immigrants: All origins   \n",
       "22   2009    Male                 Third level  Emigrants: All destinations   \n",
       "..    ...     ...                         ...                          ...   \n",
       "620  2022  Female           Post leaving cert      Immigrants: All origins   \n",
       "622  2022  Female                 Third level  Emigrants: All destinations   \n",
       "623  2022  Female                 Third level      Immigrants: All origins   \n",
       "625  2022  Female                  Not stated  Emigrants: All destinations   \n",
       "626  2022  Female                  Not stated      Immigrants: All origins   \n",
       "\n",
       "       VALUE  \n",
       "16   18600.0  \n",
       "17   11700.0  \n",
       "19    5100.0  \n",
       "20    2900.0  \n",
       "22   13600.0  \n",
       "..       ...  \n",
       "620   1200.0  \n",
       "622  14400.0  \n",
       "623  40300.0  \n",
       "625   1300.0  \n",
       "626   3900.0  \n",
       "\n",
       "[224 rows x 5 columns]"
      ]
     },
     "execution_count": 8,
     "metadata": {},
     "output_type": "execute_result"
    }
   ],
   "source": [
    "# Display the modified DataFrame\n",
    "df3\n",
    "\n"
   ]
  },
  {
   "cell_type": "code",
   "execution_count": 9,
   "id": "66930e0f",
   "metadata": {},
   "outputs": [
    {
     "name": "stdout",
     "output_type": "stream",
     "text": [
      "Unique values for Year:\n",
      "[2009 2010 2011 2012 2013 2014 2015 2016 2017 2018 2019 2020 2021 2022]\n",
      "\n",
      "\n",
      "Unique values for Sex:\n",
      "['Male' 'Female']\n",
      "\n",
      "\n",
      "Unique values for Education_Level:\n",
      "['Higher secondary and below' 'Post leaving cert' 'Third level'\n",
      " 'Not stated']\n",
      "\n",
      "\n",
      "Unique values for Inward_or_Outward_Flow:\n",
      "['Emigrants: All destinations' 'Immigrants: All origins']\n",
      "\n",
      "\n",
      "Unique values for VALUE:\n",
      "[18600. 11700.  5100.  2900. 13600. 16200.  3600.  3700. 13000. 10200.\n",
      "  1600. 10800.  3400.  4600. 15500.  7300.  5700.  1800. 14700.  8400.\n",
      "  1400. 11200.  7700.  1500.   700. 13200. 11100.  1700. 15700.  8900.\n",
      "  4000. 17400. 10000.  2200.  1100. 14400.  2400. 18400. 12400. 15600.\n",
      "  9700.  5000.  2300. 11800.  1000. 12500.  6500. 16600. 16400.  2000.\n",
      " 16000.  9400.  1200. 14500. 17200.  7800. 15400. 14800.   800. 13400.\n",
      "  7600.  3000.  2100.  2600.  2500. 10100.  7500. 19100.  3100.  3300.\n",
      " 10700.  9000.   900. 16800.  3900.  8700. 20400.  1900.  4700.  5200.\n",
      " 19600.  9300. 22800.  4300.  9200.  2700. 13900. 23800. 24700.  3800.\n",
      " 11300. 11000. 20200.  6400.  7100. 29000.  8600. 13300. 27700.  6000.\n",
      " 15000. 25300. 10600.  1300.  3200. 10900. 26300.  6300.   400. 30600.\n",
      "  5400.  5500. 18500.  6100.  4400. 17100. 24100. 16300. 30000.  5600.\n",
      " 40300.]\n",
      "\n",
      "\n"
     ]
    }
   ],
   "source": [
    "# Looking up distinct values within the df:\n",
    "def df3_distinct(df3):\n",
    "    for column in df3:\n",
    "        unique_values = df3[column].unique()\n",
    "        print(f\"Unique values for {column}:\")\n",
    "        print(unique_values)\n",
    "        print(\"\\n\")\n",
    "\n",
    "# Calling the function.\n",
    "df3_distinct(df3)"
   ]
  },
  {
   "cell_type": "markdown",
   "id": "ff35bf6e",
   "metadata": {},
   "source": [
    "# Binomial Distribution with n subsetting and increasing n."
   ]
  },
  {
   "cell_type": "markdown",
   "id": "3eed907e",
   "metadata": {},
   "source": [
    "We are going to model the Binomial Distribution for Males that have Post leaving cert education, we will be considering all year range\n"
   ]
  },
  {
   "cell_type": "code",
   "execution_count": 10,
   "id": "bfac24b3",
   "metadata": {},
   "outputs": [],
   "source": [
    "# Calculate the total sum of all values\n",
    "total_sum = df3['VALUE'].sum()\n",
    "\n",
    "# Calculate the probability for each row and store it in a new column 'Probability'\n",
    "df3['Probability'] = df3['VALUE'] / total_sum"
   ]
  },
  {
   "cell_type": "code",
   "execution_count": 11,
   "id": "be511d9d",
   "metadata": {},
   "outputs": [
    {
     "data": {
      "text/html": [
       "<div>\n",
       "<style scoped>\n",
       "    .dataframe tbody tr th:only-of-type {\n",
       "        vertical-align: middle;\n",
       "    }\n",
       "\n",
       "    .dataframe tbody tr th {\n",
       "        vertical-align: top;\n",
       "    }\n",
       "\n",
       "    .dataframe thead th {\n",
       "        text-align: right;\n",
       "    }\n",
       "</style>\n",
       "<table border=\"1\" class=\"dataframe\">\n",
       "  <thead>\n",
       "    <tr style=\"text-align: right;\">\n",
       "      <th></th>\n",
       "      <th>Year</th>\n",
       "      <th>Sex</th>\n",
       "      <th>Education_Level</th>\n",
       "      <th>Inward_or_Outward_Flow</th>\n",
       "      <th>VALUE</th>\n",
       "      <th>Probability</th>\n",
       "    </tr>\n",
       "  </thead>\n",
       "  <tbody>\n",
       "    <tr>\n",
       "      <th>16</th>\n",
       "      <td>2009</td>\n",
       "      <td>Male</td>\n",
       "      <td>Higher secondary and below</td>\n",
       "      <td>Emigrants: All destinations</td>\n",
       "      <td>18600.0</td>\n",
       "      <td>0.010452</td>\n",
       "    </tr>\n",
       "    <tr>\n",
       "      <th>17</th>\n",
       "      <td>2009</td>\n",
       "      <td>Male</td>\n",
       "      <td>Higher secondary and below</td>\n",
       "      <td>Immigrants: All origins</td>\n",
       "      <td>11700.0</td>\n",
       "      <td>0.006575</td>\n",
       "    </tr>\n",
       "    <tr>\n",
       "      <th>19</th>\n",
       "      <td>2009</td>\n",
       "      <td>Male</td>\n",
       "      <td>Post leaving cert</td>\n",
       "      <td>Emigrants: All destinations</td>\n",
       "      <td>5100.0</td>\n",
       "      <td>0.002866</td>\n",
       "    </tr>\n",
       "    <tr>\n",
       "      <th>20</th>\n",
       "      <td>2009</td>\n",
       "      <td>Male</td>\n",
       "      <td>Post leaving cert</td>\n",
       "      <td>Immigrants: All origins</td>\n",
       "      <td>2900.0</td>\n",
       "      <td>0.001630</td>\n",
       "    </tr>\n",
       "    <tr>\n",
       "      <th>22</th>\n",
       "      <td>2009</td>\n",
       "      <td>Male</td>\n",
       "      <td>Third level</td>\n",
       "      <td>Emigrants: All destinations</td>\n",
       "      <td>13600.0</td>\n",
       "      <td>0.007643</td>\n",
       "    </tr>\n",
       "    <tr>\n",
       "      <th>...</th>\n",
       "      <td>...</td>\n",
       "      <td>...</td>\n",
       "      <td>...</td>\n",
       "      <td>...</td>\n",
       "      <td>...</td>\n",
       "      <td>...</td>\n",
       "    </tr>\n",
       "    <tr>\n",
       "      <th>620</th>\n",
       "      <td>2022</td>\n",
       "      <td>Female</td>\n",
       "      <td>Post leaving cert</td>\n",
       "      <td>Immigrants: All origins</td>\n",
       "      <td>1200.0</td>\n",
       "      <td>0.000674</td>\n",
       "    </tr>\n",
       "    <tr>\n",
       "      <th>622</th>\n",
       "      <td>2022</td>\n",
       "      <td>Female</td>\n",
       "      <td>Third level</td>\n",
       "      <td>Emigrants: All destinations</td>\n",
       "      <td>14400.0</td>\n",
       "      <td>0.008092</td>\n",
       "    </tr>\n",
       "    <tr>\n",
       "      <th>623</th>\n",
       "      <td>2022</td>\n",
       "      <td>Female</td>\n",
       "      <td>Third level</td>\n",
       "      <td>Immigrants: All origins</td>\n",
       "      <td>40300.0</td>\n",
       "      <td>0.022647</td>\n",
       "    </tr>\n",
       "    <tr>\n",
       "      <th>625</th>\n",
       "      <td>2022</td>\n",
       "      <td>Female</td>\n",
       "      <td>Not stated</td>\n",
       "      <td>Emigrants: All destinations</td>\n",
       "      <td>1300.0</td>\n",
       "      <td>0.000731</td>\n",
       "    </tr>\n",
       "    <tr>\n",
       "      <th>626</th>\n",
       "      <td>2022</td>\n",
       "      <td>Female</td>\n",
       "      <td>Not stated</td>\n",
       "      <td>Immigrants: All origins</td>\n",
       "      <td>3900.0</td>\n",
       "      <td>0.002192</td>\n",
       "    </tr>\n",
       "  </tbody>\n",
       "</table>\n",
       "<p>224 rows × 6 columns</p>\n",
       "</div>"
      ],
      "text/plain": [
       "     Year     Sex             Education_Level       Inward_or_Outward_Flow  \\\n",
       "16   2009    Male  Higher secondary and below  Emigrants: All destinations   \n",
       "17   2009    Male  Higher secondary and below      Immigrants: All origins   \n",
       "19   2009    Male           Post leaving cert  Emigrants: All destinations   \n",
       "20   2009    Male           Post leaving cert      Immigrants: All origins   \n",
       "22   2009    Male                 Third level  Emigrants: All destinations   \n",
       "..    ...     ...                         ...                          ...   \n",
       "620  2022  Female           Post leaving cert      Immigrants: All origins   \n",
       "622  2022  Female                 Third level  Emigrants: All destinations   \n",
       "623  2022  Female                 Third level      Immigrants: All origins   \n",
       "625  2022  Female                  Not stated  Emigrants: All destinations   \n",
       "626  2022  Female                  Not stated      Immigrants: All origins   \n",
       "\n",
       "       VALUE  Probability  \n",
       "16   18600.0     0.010452  \n",
       "17   11700.0     0.006575  \n",
       "19    5100.0     0.002866  \n",
       "20    2900.0     0.001630  \n",
       "22   13600.0     0.007643  \n",
       "..       ...          ...  \n",
       "620   1200.0     0.000674  \n",
       "622  14400.0     0.008092  \n",
       "623  40300.0     0.022647  \n",
       "625   1300.0     0.000731  \n",
       "626   3900.0     0.002192  \n",
       "\n",
       "[224 rows x 6 columns]"
      ]
     },
     "execution_count": 11,
     "metadata": {},
     "output_type": "execute_result"
    }
   ],
   "source": [
    "df3"
   ]
  },
  {
   "cell_type": "code",
   "execution_count": 12,
   "id": "bdf5102a",
   "metadata": {},
   "outputs": [
    {
     "data": {
      "text/plain": [
       "0.9999999999999998"
      ]
     },
     "execution_count": 12,
     "metadata": {},
     "output_type": "execute_result"
    }
   ],
   "source": [
    "df3.Probability.sum()"
   ]
  },
  {
   "cell_type": "code",
   "execution_count": 13,
   "id": "32f74215",
   "metadata": {},
   "outputs": [],
   "source": [
    "subset_df3 = df3[(df3['Sex'] == 'Male') & (df3['Education_Level'] == 'Post leaving cert') &(df3['Inward_or_Outward_Flow'] == 'Emigrants: All destinations')]\n",
    "                \n",
    "               "
   ]
  },
  {
   "cell_type": "code",
   "execution_count": 14,
   "id": "95f6c88b",
   "metadata": {},
   "outputs": [
    {
     "data": {
      "text/html": [
       "<div>\n",
       "<style scoped>\n",
       "    .dataframe tbody tr th:only-of-type {\n",
       "        vertical-align: middle;\n",
       "    }\n",
       "\n",
       "    .dataframe tbody tr th {\n",
       "        vertical-align: top;\n",
       "    }\n",
       "\n",
       "    .dataframe thead th {\n",
       "        text-align: right;\n",
       "    }\n",
       "</style>\n",
       "<table border=\"1\" class=\"dataframe\">\n",
       "  <thead>\n",
       "    <tr style=\"text-align: right;\">\n",
       "      <th></th>\n",
       "      <th>Year</th>\n",
       "      <th>Sex</th>\n",
       "      <th>Education_Level</th>\n",
       "      <th>Inward_or_Outward_Flow</th>\n",
       "      <th>VALUE</th>\n",
       "      <th>Probability</th>\n",
       "    </tr>\n",
       "  </thead>\n",
       "  <tbody>\n",
       "    <tr>\n",
       "      <th>19</th>\n",
       "      <td>2009</td>\n",
       "      <td>Male</td>\n",
       "      <td>Post leaving cert</td>\n",
       "      <td>Emigrants: All destinations</td>\n",
       "      <td>5100.0</td>\n",
       "      <td>0.002866</td>\n",
       "    </tr>\n",
       "    <tr>\n",
       "      <th>64</th>\n",
       "      <td>2010</td>\n",
       "      <td>Male</td>\n",
       "      <td>Post leaving cert</td>\n",
       "      <td>Emigrants: All destinations</td>\n",
       "      <td>5700.0</td>\n",
       "      <td>0.003203</td>\n",
       "    </tr>\n",
       "    <tr>\n",
       "      <th>109</th>\n",
       "      <td>2011</td>\n",
       "      <td>Male</td>\n",
       "      <td>Post leaving cert</td>\n",
       "      <td>Emigrants: All destinations</td>\n",
       "      <td>4000.0</td>\n",
       "      <td>0.002248</td>\n",
       "    </tr>\n",
       "    <tr>\n",
       "      <th>154</th>\n",
       "      <td>2012</td>\n",
       "      <td>Male</td>\n",
       "      <td>Post leaving cert</td>\n",
       "      <td>Emigrants: All destinations</td>\n",
       "      <td>5000.0</td>\n",
       "      <td>0.002810</td>\n",
       "    </tr>\n",
       "    <tr>\n",
       "      <th>199</th>\n",
       "      <td>2013</td>\n",
       "      <td>Male</td>\n",
       "      <td>Post leaving cert</td>\n",
       "      <td>Emigrants: All destinations</td>\n",
       "      <td>3700.0</td>\n",
       "      <td>0.002079</td>\n",
       "    </tr>\n",
       "    <tr>\n",
       "      <th>244</th>\n",
       "      <td>2014</td>\n",
       "      <td>Male</td>\n",
       "      <td>Post leaving cert</td>\n",
       "      <td>Emigrants: All destinations</td>\n",
       "      <td>3000.0</td>\n",
       "      <td>0.001686</td>\n",
       "    </tr>\n",
       "    <tr>\n",
       "      <th>289</th>\n",
       "      <td>2015</td>\n",
       "      <td>Male</td>\n",
       "      <td>Post leaving cert</td>\n",
       "      <td>Emigrants: All destinations</td>\n",
       "      <td>2400.0</td>\n",
       "      <td>0.001349</td>\n",
       "    </tr>\n",
       "    <tr>\n",
       "      <th>334</th>\n",
       "      <td>2016</td>\n",
       "      <td>Male</td>\n",
       "      <td>Post leaving cert</td>\n",
       "      <td>Emigrants: All destinations</td>\n",
       "      <td>1900.0</td>\n",
       "      <td>0.001068</td>\n",
       "    </tr>\n",
       "    <tr>\n",
       "      <th>379</th>\n",
       "      <td>2017</td>\n",
       "      <td>Male</td>\n",
       "      <td>Post leaving cert</td>\n",
       "      <td>Emigrants: All destinations</td>\n",
       "      <td>1700.0</td>\n",
       "      <td>0.000955</td>\n",
       "    </tr>\n",
       "    <tr>\n",
       "      <th>424</th>\n",
       "      <td>2018</td>\n",
       "      <td>Male</td>\n",
       "      <td>Post leaving cert</td>\n",
       "      <td>Emigrants: All destinations</td>\n",
       "      <td>2100.0</td>\n",
       "      <td>0.001180</td>\n",
       "    </tr>\n",
       "    <tr>\n",
       "      <th>469</th>\n",
       "      <td>2019</td>\n",
       "      <td>Male</td>\n",
       "      <td>Post leaving cert</td>\n",
       "      <td>Emigrants: All destinations</td>\n",
       "      <td>1500.0</td>\n",
       "      <td>0.000843</td>\n",
       "    </tr>\n",
       "    <tr>\n",
       "      <th>514</th>\n",
       "      <td>2020</td>\n",
       "      <td>Male</td>\n",
       "      <td>Post leaving cert</td>\n",
       "      <td>Emigrants: All destinations</td>\n",
       "      <td>1300.0</td>\n",
       "      <td>0.000731</td>\n",
       "    </tr>\n",
       "    <tr>\n",
       "      <th>559</th>\n",
       "      <td>2021</td>\n",
       "      <td>Male</td>\n",
       "      <td>Post leaving cert</td>\n",
       "      <td>Emigrants: All destinations</td>\n",
       "      <td>1700.0</td>\n",
       "      <td>0.000955</td>\n",
       "    </tr>\n",
       "    <tr>\n",
       "      <th>604</th>\n",
       "      <td>2022</td>\n",
       "      <td>Male</td>\n",
       "      <td>Post leaving cert</td>\n",
       "      <td>Emigrants: All destinations</td>\n",
       "      <td>1900.0</td>\n",
       "      <td>0.001068</td>\n",
       "    </tr>\n",
       "  </tbody>\n",
       "</table>\n",
       "</div>"
      ],
      "text/plain": [
       "     Year   Sex    Education_Level       Inward_or_Outward_Flow   VALUE  \\\n",
       "19   2009  Male  Post leaving cert  Emigrants: All destinations  5100.0   \n",
       "64   2010  Male  Post leaving cert  Emigrants: All destinations  5700.0   \n",
       "109  2011  Male  Post leaving cert  Emigrants: All destinations  4000.0   \n",
       "154  2012  Male  Post leaving cert  Emigrants: All destinations  5000.0   \n",
       "199  2013  Male  Post leaving cert  Emigrants: All destinations  3700.0   \n",
       "244  2014  Male  Post leaving cert  Emigrants: All destinations  3000.0   \n",
       "289  2015  Male  Post leaving cert  Emigrants: All destinations  2400.0   \n",
       "334  2016  Male  Post leaving cert  Emigrants: All destinations  1900.0   \n",
       "379  2017  Male  Post leaving cert  Emigrants: All destinations  1700.0   \n",
       "424  2018  Male  Post leaving cert  Emigrants: All destinations  2100.0   \n",
       "469  2019  Male  Post leaving cert  Emigrants: All destinations  1500.0   \n",
       "514  2020  Male  Post leaving cert  Emigrants: All destinations  1300.0   \n",
       "559  2021  Male  Post leaving cert  Emigrants: All destinations  1700.0   \n",
       "604  2022  Male  Post leaving cert  Emigrants: All destinations  1900.0   \n",
       "\n",
       "     Probability  \n",
       "19      0.002866  \n",
       "64      0.003203  \n",
       "109     0.002248  \n",
       "154     0.002810  \n",
       "199     0.002079  \n",
       "244     0.001686  \n",
       "289     0.001349  \n",
       "334     0.001068  \n",
       "379     0.000955  \n",
       "424     0.001180  \n",
       "469     0.000843  \n",
       "514     0.000731  \n",
       "559     0.000955  \n",
       "604     0.001068  "
      ]
     },
     "execution_count": 14,
     "metadata": {},
     "output_type": "execute_result"
    }
   ],
   "source": [
    "subset_df3 "
   ]
  },
  {
   "cell_type": "code",
   "execution_count": 15,
   "id": "ae601a18",
   "metadata": {},
   "outputs": [
    {
     "name": "stdout",
     "output_type": "stream",
     "text": [
      "0.02304017982579376\n"
     ]
    }
   ],
   "source": [
    "#Finding the probability from 2009 to 2022 for Male Emigrants that have Post leaving cert:\n",
    "p=subset_df3.Probability.sum()\n",
    "print(p)"
   ]
  },
  {
   "cell_type": "code",
   "execution_count": 16,
   "id": "910af4c3",
   "metadata": {},
   "outputs": [
    {
     "name": "stdout",
     "output_type": "stream",
     "text": [
      "14\n"
     ]
    }
   ],
   "source": [
    "n  = len(subset_df3['Year'])\n",
    "print(n)"
   ]
  },
  {
   "cell_type": "code",
   "execution_count": 17,
   "id": "828ac18f",
   "metadata": {},
   "outputs": [
    {
     "data": {
      "image/png": "[encoded data removed]",
      "text/plain": [
       "<Figure size 432x288 with 1 Axes>"
      ]
     },
     "metadata": {},
     "output_type": "display_data"
    }
   ],
   "source": [
    "# Parameters for the Binomial distribution\n",
    "p    # Probability of success\n",
    "n   # Number of trials\n",
    "\n",
    "# Generating the x values\n",
    "x = np.arange(0, n + 1)\n",
    "\n",
    "# Binomial distribution for the given parameters\n",
    "y = binom.pmf(x, n, p)\n",
    "\n",
    "# Plotting\n",
    "sns.set(style=\"whitegrid\")\n",
    "plt.bar(x, y, alpha=0.7, align='center', label=f'n = {n}, p = {p}')\n",
    "plt.title('Binomial Distribution with p=0.023040 and n=14')\n",
    "plt.xlabel('Number of Successes')\n",
    "plt.ylabel('Probability')\n",
    "plt.legend()\n",
    "plt.show()"
   ]
  },
  {
   "cell_type": "code",
   "execution_count": 18,
   "id": "88a70e43",
   "metadata": {},
   "outputs": [],
   "source": [
    "n2=600"
   ]
  },
  {
   "cell_type": "markdown",
   "id": "dac7b7e4",
   "metadata": {},
   "source": [
    "Incrementing n from 16 to 600 to see how the Binomial distribution evolves:"
   ]
  },
  {
   "cell_type": "code",
   "execution_count": 19,
   "id": "677c773b",
   "metadata": {},
   "outputs": [
    {
     "data": {
      "image/png": "[encoded data removed]",
      "text/plain": [
       "<Figure size 432x288 with 1 Axes>"
      ]
     },
     "metadata": {},
     "output_type": "display_data"
    }
   ],
   "source": [
    "\n",
    "\n",
    "# Parameters for the Binomial distribution\n",
    "p    # Probability of success\n",
    "n2   # Number of trials\n",
    "\n",
    "# x values\n",
    "x = np.arange(0, n2 + 1)\n",
    "\n",
    "# Binomial distribution\n",
    "y = binom.pmf(x, n2, p)\n",
    "\n",
    "# Plotting\n",
    "plt.bar(x, y, alpha=0.7, align='center', label=f'n = {n2}, p = {p}')\n",
    "plt.title('Binomial Distribution with p=0.023040 and n=600')\n",
    "plt.xlabel('Number of Successes')\n",
    "plt.ylabel('Probability')\n",
    "plt.legend()\n",
    "# Limits x-axis\n",
    "plt.xlim(0, 30) \n",
    "# mean line\n",
    "mean = n2 * p\n",
    "plt.axvline(x=mean, color='r', linestyle='--', label=f'Mean = {mean}')\n",
    "plt.legend(loc='upper left', bbox_to_anchor=(1, 1))\n",
    "plt.show()\n"
   ]
  },
  {
   "cell_type": "markdown",
   "id": "2447deb6",
   "metadata": {},
   "source": [
    "We can clearly see:\n",
    "    \n",
    "The Central Limit Theorem says that as n increases, the binomial distribution with n trials and probability p of success gets closer and closer to a normal distribution. That is, the binomial probability of any event gets closer and closer to the normal probability of the same event. The normal distribution has the same mean μ = np and standard deviation  as the binomial distribution."
   ]
  },
  {
   "cell_type": "markdown",
   "id": "b192780a",
   "metadata": {},
   "source": [
    "# Poisson Distribution:"
   ]
  },
  {
   "cell_type": "code",
   "execution_count": 20,
   "id": "a892efcb",
   "metadata": {},
   "outputs": [
    {
     "data": {
      "image/png": "[encoded data removed]",
      "text/plain": [
       "<Figure size 432x288 with 1 Axes>"
      ]
     },
     "metadata": {},
     "output_type": "display_data"
    }
   ],
   "source": [
    "# Parameters\n",
    "p = 0.02304017982579376  # rate parameter for Poisson distribution\n",
    "n = 14  # number of events\n",
    "\n",
    "# Poisson distribution\n",
    "x = np.arange(0, 30)\n",
    "poisson_values = poisson.pmf(x, p * n)\n",
    "\n",
    "# Plotting\n",
    "plt.bar(x, poisson_values, alpha=0.6, label='Poisson PMF', color='b')\n",
    "\n",
    "# Set the title and labels\n",
    "plt.title('Poisson Distribution', fontsize=16)\n",
    "plt.xlabel('Number of Events', fontsize=12)\n",
    "plt.ylabel('Probability', fontsize=12)\n",
    "plt.legend()\n",
    "plt.show()"
   ]
  },
  {
   "cell_type": "code",
   "execution_count": 21,
   "id": "132043a8",
   "metadata": {},
   "outputs": [
    {
     "data": {
      "image/png": "[encoded data removed]",
      "text/plain": [
       "<Figure size 432x288 with 1 Axes>"
      ]
     },
     "metadata": {},
     "output_type": "display_data"
    }
   ],
   "source": [
    "# Parameters\n",
    "p = 0.02304017982579376  # rate parameter for Poisson distribution\n",
    "n2 = 600  # number of events\n",
    "\n",
    "#Poisson distribution\n",
    "x = np.arange(0, 30)\n",
    "poisson_values = poisson.pmf(x, p * n2)\n",
    "\n",
    "# Plotting\n",
    "plt.bar(x, poisson_values, alpha=0.6, label='Poisson PMF', color='b')\n",
    "plt.title('Poisson Distribution', fontsize=16)\n",
    "plt.xlabel('Number of Events', fontsize=12)\n",
    "plt.ylabel('Probability', fontsize=12)\n",
    "mean = n2 * p\n",
    "plt.axvline(x=mean, color='r', linestyle='--', label=f'Mean = {mean}')\n",
    "plt.legend(loc='upper left', bbox_to_anchor=(1, 1))\n",
    "plt.show()\n"
   ]
  },
  {
   "cell_type": "markdown",
   "id": "85a00b66",
   "metadata": {},
   "source": [
    "# Normal distribution"
   ]
  },
  {
   "cell_type": "code",
   "execution_count": 22,
   "id": "d3295e64",
   "metadata": {},
   "outputs": [
    {
     "data": {
      "image/png": "[encoded data removed]",
      "text/plain": [
       "<Figure size 576x432 with 1 Axes>"
      ]
     },
     "metadata": {},
     "output_type": "display_data"
    }
   ],
   "source": [
    "# Parameters\n",
    "n = 14\n",
    "p = 0.02304017982579376\n",
    "\n",
    "# x-axis values\n",
    "x = np.linspace(0, n, 100)\n",
    "\n",
    "# mean and standard deviation for normal distribution\n",
    "mean_normal = n * p\n",
    "std_dev_normal = np.sqrt(n * p * (1 - p))\n",
    "normal_values = norm.pdf(x, mean_normal, std_dev_normal)\n",
    "plt.figure(figsize=(8, 6))\n",
    "plt.bar(x, normal_values, alpha=0.7, color='g', edgecolor='black')\n",
    "plt.title('Normal Distribution', fontsize=16)\n",
    "plt.xlabel('Number of Successes', fontsize=12)\n",
    "plt.ylabel('Probability', fontsize=12)\n",
    "plt.show()\n"
   ]
  },
  {
   "cell_type": "markdown",
   "id": "d823adf3",
   "metadata": {},
   "source": [
    "# sumary of Binomial, Poison and Normal distributions."
   ]
  },
  {
   "cell_type": "code",
   "execution_count": 23,
   "id": "8e23c0d4",
   "metadata": {},
   "outputs": [
    {
     "data": {
      "image/png": "[encoded data removed]",
      "text/plain": [
       "<Figure size 576x432 with 1 Axes>"
      ]
     },
     "metadata": {},
     "output_type": "display_data"
    },
    {
     "data": {
      "image/png": "[encoded data removed]",
      "text/plain": [
       "<Figure size 576x432 with 1 Axes>"
      ]
     },
     "metadata": {},
     "output_type": "display_data"
    },
    {
     "data": {
      "image/png": "[encoded data removed]",
      "text/plain": [
       "<Figure size 576x432 with 1 Axes>"
      ]
     },
     "metadata": {},
     "output_type": "display_data"
    }
   ],
   "source": [
    "# Parameters\n",
    "n = 14\n",
    "p = 0.02304017982579376\n",
    "\n",
    "# x-axis values\n",
    "x = np.arange(0, n + 1)\n",
    "\n",
    "# Binomial distribution\n",
    "binomial_values = binom.pmf(x, n, p)\n",
    "plt.figure(figsize=(8, 6))\n",
    "plt.bar(x, binomial_values, label='Binomial Distribution', alpha=0.7, color='b', edgecolor='black')\n",
    "plt.title('Binomial Distribution', fontsize=16)\n",
    "plt.xlabel('Number of Successes', fontsize=12)\n",
    "plt.ylabel('Probability', fontsize=12)\n",
    "plt.legend()\n",
    "plt.show()\n",
    "\n",
    "# Poisson distribution\n",
    "lambda_poisson = n * p\n",
    "poisson_values = poisson.pmf(x, lambda_poisson)\n",
    "plt.figure(figsize=(8, 6))\n",
    "plt.bar(x, poisson_values, label='Poisson Distribution', alpha=0.7, color='r', edgecolor='black')\n",
    "plt.title('Poisson Distribution', fontsize=16)\n",
    "plt.xlabel('Number of Successes', fontsize=12)\n",
    "plt.ylabel('Probability', fontsize=12)\n",
    "plt.legend()\n",
    "plt.show()\n",
    "\n",
    "#Normal Distribution\n",
    "x = np.linspace(0, n, 100)\n",
    "mean_normal = n * p\n",
    "std_dev_normal = np.sqrt(n * p * (1 - p))\n",
    "normal_values = norm.pdf(x, mean_normal, std_dev_normal)\n",
    "\n",
    "plt.figure(figsize=(8, 6))\n",
    "plt.bar(x, normal_values, label='Normal Distribution', alpha=0.7, color='g', edgecolor='black')\n",
    "plt.title('Normal Distribution', fontsize=16)\n",
    "plt.xlabel('Number of Successes', fontsize=12)\n",
    "plt.ylabel('Probability', fontsize=12)\n",
    "plt.legend()\n",
    "plt.show()\n"
   ]
  }
 ],
 "metadata": {
  "kernelspec": {
   "display_name": "Python 3 (ipykernel)",
   "language": "python",
   "name": "python3"
  },
  "language_info": {
   "codemirror_mode": {
    "name": "ipython",
    "version": 3
   },
   "file_extension": ".py",
   "mimetype": "text/x-python",
   "name": "python",
   "nbconvert_exporter": "python",
   "pygments_lexer": "ipython3",
   "version": "3.9.12"
  }
 },
 "nbformat": 4,
 "nbformat_minor": 5
}
