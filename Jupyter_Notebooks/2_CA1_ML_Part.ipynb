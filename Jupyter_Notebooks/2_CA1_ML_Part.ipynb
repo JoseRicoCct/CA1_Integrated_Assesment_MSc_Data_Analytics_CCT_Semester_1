{
 "cells": [
  {
   "cell_type": "code",
   "execution_count": 1,
   "id": "066e0692",
   "metadata": {},
   "outputs": [],
   "source": [
    "#Importing needed libraries:\n",
    "import pandas as pd\n",
    "import numpy as np\n",
    "from sklearn.model_selection import train_test_split\n",
    "from sklearn.preprocessing import LabelEncoder\n",
    "from sklearn.ensemble import RandomForestRegressor\n",
    "from sklearn.tree import DecisionTreeRegressor\n",
    "from sklearn.metrics import mean_squared_error, mean_absolute_error\n",
    "import matplotlib.pyplot as plt\n",
    "from sklearn.linear_model import LinearRegression, Ridge, Lasso\n",
    "from sklearn.metrics import r2_score\n",
    "from sklearn.metrics import mean_squared_error\n",
    "import seaborn as sns\n",
    "sns.set(style=\"whitegrid\")#setting grid for all plots"
   ]
  },
  {
   "cell_type": "code",
   "execution_count": 2,
   "id": "95d86553",
   "metadata": {},
   "outputs": [],
   "source": [
    "# Loading the dataset:\n",
    "df3 = pd.read_csv('..\\\\Datasets_data.cso.ie\\\\PEA19.20231004T131056.csv')"
   ]
  },
  {
   "cell_type": "code",
   "execution_count": 3,
   "id": "8881c3da",
   "metadata": {},
   "outputs": [
    {
     "data": {
      "text/html": [
       "<div>\n",
       "<style scoped>\n",
       "    .dataframe tbody tr th:only-of-type {\n",
       "        vertical-align: middle;\n",
       "    }\n",
       "\n",
       "    .dataframe tbody tr th {\n",
       "        vertical-align: top;\n",
       "    }\n",
       "\n",
       "    .dataframe thead th {\n",
       "        text-align: right;\n",
       "    }\n",
       "</style>\n",
       "<table border=\"1\" class=\"dataframe\">\n",
       "  <thead>\n",
       "    <tr style=\"text-align: right;\">\n",
       "      <th></th>\n",
       "      <th>STATISTIC Label</th>\n",
       "      <th>Year</th>\n",
       "      <th>Sex</th>\n",
       "      <th>Education Level</th>\n",
       "      <th>Inward or Outward Flow</th>\n",
       "      <th>UNIT</th>\n",
       "      <th>VALUE</th>\n",
       "    </tr>\n",
       "  </thead>\n",
       "  <tbody>\n",
       "    <tr>\n",
       "      <th>0</th>\n",
       "      <td>Estimated Migration Aged 15 Years and Over  (P...</td>\n",
       "      <td>2009</td>\n",
       "      <td>Both sexes</td>\n",
       "      <td>Higher secondary and below</td>\n",
       "      <td>Net migration</td>\n",
       "      <td>Thousand</td>\n",
       "      <td>-9.7</td>\n",
       "    </tr>\n",
       "    <tr>\n",
       "      <th>1</th>\n",
       "      <td>Estimated Migration Aged 15 Years and Over  (P...</td>\n",
       "      <td>2009</td>\n",
       "      <td>Both sexes</td>\n",
       "      <td>Higher secondary and below</td>\n",
       "      <td>Emigrants: All destinations</td>\n",
       "      <td>Thousand</td>\n",
       "      <td>31.6</td>\n",
       "    </tr>\n",
       "    <tr>\n",
       "      <th>2</th>\n",
       "      <td>Estimated Migration Aged 15 Years and Over  (P...</td>\n",
       "      <td>2009</td>\n",
       "      <td>Both sexes</td>\n",
       "      <td>Higher secondary and below</td>\n",
       "      <td>Immigrants: All origins</td>\n",
       "      <td>Thousand</td>\n",
       "      <td>21.9</td>\n",
       "    </tr>\n",
       "    <tr>\n",
       "      <th>3</th>\n",
       "      <td>Estimated Migration Aged 15 Years and Over  (P...</td>\n",
       "      <td>2009</td>\n",
       "      <td>Both sexes</td>\n",
       "      <td>Post leaving cert</td>\n",
       "      <td>Net migration</td>\n",
       "      <td>Thousand</td>\n",
       "      <td>-0.2</td>\n",
       "    </tr>\n",
       "    <tr>\n",
       "      <th>4</th>\n",
       "      <td>Estimated Migration Aged 15 Years and Over  (P...</td>\n",
       "      <td>2009</td>\n",
       "      <td>Both sexes</td>\n",
       "      <td>Post leaving cert</td>\n",
       "      <td>Emigrants: All destinations</td>\n",
       "      <td>Thousand</td>\n",
       "      <td>6.7</td>\n",
       "    </tr>\n",
       "  </tbody>\n",
       "</table>\n",
       "</div>"
      ],
      "text/plain": [
       "                                     STATISTIC Label  Year         Sex  \\\n",
       "0  Estimated Migration Aged 15 Years and Over  (P...  2009  Both sexes   \n",
       "1  Estimated Migration Aged 15 Years and Over  (P...  2009  Both sexes   \n",
       "2  Estimated Migration Aged 15 Years and Over  (P...  2009  Both sexes   \n",
       "3  Estimated Migration Aged 15 Years and Over  (P...  2009  Both sexes   \n",
       "4  Estimated Migration Aged 15 Years and Over  (P...  2009  Both sexes   \n",
       "\n",
       "              Education Level       Inward or Outward Flow      UNIT  VALUE  \n",
       "0  Higher secondary and below                Net migration  Thousand   -9.7  \n",
       "1  Higher secondary and below  Emigrants: All destinations  Thousand   31.6  \n",
       "2  Higher secondary and below      Immigrants: All origins  Thousand   21.9  \n",
       "3           Post leaving cert                Net migration  Thousand   -0.2  \n",
       "4           Post leaving cert  Emigrants: All destinations  Thousand    6.7  "
      ]
     },
     "execution_count": 3,
     "metadata": {},
     "output_type": "execute_result"
    }
   ],
   "source": [
    "# Displaying first 5 rows:\n",
    "df3.head()"
   ]
  },
  {
   "cell_type": "code",
   "execution_count": 4,
   "id": "77ca2255",
   "metadata": {},
   "outputs": [],
   "source": [
    "# Dropping the 'STATISTIC Label' column it's irrelevant for the analysis\n",
    "df3_col_drop = ['STATISTIC Label','UNIT']\n",
    "df3.drop(df3_col_drop ,axis=1, inplace=True)\n",
    "# Renaming the columns\n",
    "df3 = df3.rename(columns={'Education Level': 'Education_Level','Inward or Outward Flow':'Inward_or_Outward_Flow'})\n",
    "# Dropping rows based on criteria\n",
    "df3 = df3[~((df3['Sex'] == 'Both sexes') | (df3['Inward_or_Outward_Flow'] == 'Net migration') | (df3['Education_Level'] == 'All persons'))]\n",
    "\n",
    "df3['VALUE'] = df3['VALUE'].apply(lambda x: x * 1000)"
   ]
  },
  {
   "cell_type": "markdown",
   "id": "1c59bfa5",
   "metadata": {},
   "source": [
    "# Studiying supervised learning techniques:"
   ]
  },
  {
   "cell_type": "code",
   "execution_count": 5,
   "id": "36cd4081",
   "metadata": {},
   "outputs": [],
   "source": [
    "label_encoders = {}\n",
    "categorical_columns = [\"Sex\", \"Education_Level\", \"Inward_or_Outward_Flow\"]\n",
    "for col in categorical_columns:\n",
    "    le = LabelEncoder()\n",
    "    df3[col] = le.fit_transform(df3[col])\n",
    "    label_encoders[col] = le\n"
   ]
  },
  {
   "cell_type": "code",
   "execution_count": 6,
   "id": "3d5d4f5f",
   "metadata": {},
   "outputs": [],
   "source": [
    "# Separating features and target variable\n",
    "X = df3.drop(\"VALUE\", axis=1)\n",
    "y = df3[\"VALUE\"]\n",
    "\n",
    "# Splitting the dataset into training and testing sets\n",
    "X_train, X_test, y_train, y_test = train_test_split(X, y, test_size=0.2, random_state=42)\n"
   ]
  },
  {
   "cell_type": "code",
   "execution_count": 7,
   "id": "b5cd66a7",
   "metadata": {},
   "outputs": [],
   "source": [
    "# Random Forest\n",
    "rf = RandomForestRegressor(n_estimators=100, random_state=42)\n",
    "rf.fit(X_train, y_train)\n",
    "y_pred_rf = rf.predict(X_test)\n",
    "\n",
    "# Decision Tree\n",
    "dt = DecisionTreeRegressor(random_state=42)\n",
    "dt.fit(X_train, y_train)\n",
    "y_pred_dt = dt.predict(X_test)"
   ]
  },
  {
   "cell_type": "code",
   "execution_count": 8,
   "id": "d88fbf7e",
   "metadata": {},
   "outputs": [
    {
     "name": "stdout",
     "output_type": "stream",
     "text": [
      "Random Forest Mean Squared Error: 7020751.355555556\n",
      "Random Forest Mean Absolute Error: 1559.1333333333334\n",
      "Decision Tree Mean Squared Error: 13202444.444444444\n",
      "Decision Tree Mean Absolute Error: 2402.222222222222\n"
     ]
    }
   ],
   "source": [
    "# Evaluating the models\n",
    "print(\"Random Forest Mean Squared Error:\", mean_squared_error(y_test, y_pred_rf))\n",
    "print(\"Random Forest Mean Absolute Error:\", mean_absolute_error(y_test, y_pred_rf))\n",
    "print(\"Decision Tree Mean Squared Error:\", mean_squared_error(y_test, y_pred_dt))\n",
    "print(\"Decision Tree Mean Absolute Error:\", mean_absolute_error(y_test, y_pred_dt))\n"
   ]
  },
  {
   "cell_type": "code",
   "execution_count": 9,
   "id": "1f490046",
   "metadata": {},
   "outputs": [
    {
     "data": {
      "image/png": "[encoded data removed]",
      "text/plain": [
       "<Figure size 864x432 with 1 Axes>"
      ]
     },
     "metadata": {},
     "output_type": "display_data"
    }
   ],
   "source": [
    "import matplotlib.pyplot as plt\n",
    "\n",
    "# Plotting the results\n",
    "plt.figure(figsize=(12, 6))\n",
    "\n",
    "# Scatter plot for Random Forest\n",
    "plt.scatter(range(len(y_test)), y_test, color='blue', label='Actual Values')\n",
    "plt.scatter(range(len(y_test)), y_pred_rf, color='red', label='Predicted Values - Random Forest', marker='x')\n",
    "\n",
    "# Scatter plot for Decision Tree\n",
    "plt.scatter(range(len(y_test)), y_pred_dt, color='green', label='Predicted Values - Decision Tree', marker='^')\n",
    "\n",
    "plt.title('Comparison of Random Forest and Decision Tree Predictions')\n",
    "plt.xlabel('Data Points')\n",
    "plt.ylabel('Value')\n",
    "plt.legend()\n",
    "plt.show()\n"
   ]
  },
  {
   "cell_type": "markdown",
   "id": "ecf009c7",
   "metadata": {},
   "source": [
    "# Random forest"
   ]
  },
  {
   "cell_type": "code",
   "execution_count": 10,
   "id": "d3058b35",
   "metadata": {},
   "outputs": [
    {
     "data": {
      "text/html": [
       "<div>\n",
       "<style scoped>\n",
       "    .dataframe tbody tr th:only-of-type {\n",
       "        vertical-align: middle;\n",
       "    }\n",
       "\n",
       "    .dataframe tbody tr th {\n",
       "        vertical-align: top;\n",
       "    }\n",
       "\n",
       "    .dataframe thead th {\n",
       "        text-align: right;\n",
       "    }\n",
       "</style>\n",
       "<table border=\"1\" class=\"dataframe\">\n",
       "  <thead>\n",
       "    <tr style=\"text-align: right;\">\n",
       "      <th></th>\n",
       "      <th>Year</th>\n",
       "      <th>Sex</th>\n",
       "      <th>Education_Level</th>\n",
       "      <th>Inward_or_Outward_Flow</th>\n",
       "      <th>VALUE</th>\n",
       "    </tr>\n",
       "  </thead>\n",
       "  <tbody>\n",
       "    <tr>\n",
       "      <th>16</th>\n",
       "      <td>2009</td>\n",
       "      <td>Male</td>\n",
       "      <td>Higher secondary and below</td>\n",
       "      <td>Emigrants: All destinations</td>\n",
       "      <td>18600.0</td>\n",
       "    </tr>\n",
       "    <tr>\n",
       "      <th>17</th>\n",
       "      <td>2009</td>\n",
       "      <td>Male</td>\n",
       "      <td>Higher secondary and below</td>\n",
       "      <td>Immigrants: All origins</td>\n",
       "      <td>11700.0</td>\n",
       "    </tr>\n",
       "    <tr>\n",
       "      <th>19</th>\n",
       "      <td>2009</td>\n",
       "      <td>Male</td>\n",
       "      <td>Post leaving cert</td>\n",
       "      <td>Emigrants: All destinations</td>\n",
       "      <td>5100.0</td>\n",
       "    </tr>\n",
       "    <tr>\n",
       "      <th>20</th>\n",
       "      <td>2009</td>\n",
       "      <td>Male</td>\n",
       "      <td>Post leaving cert</td>\n",
       "      <td>Immigrants: All origins</td>\n",
       "      <td>2900.0</td>\n",
       "    </tr>\n",
       "    <tr>\n",
       "      <th>22</th>\n",
       "      <td>2009</td>\n",
       "      <td>Male</td>\n",
       "      <td>Third level</td>\n",
       "      <td>Emigrants: All destinations</td>\n",
       "      <td>13600.0</td>\n",
       "    </tr>\n",
       "    <tr>\n",
       "      <th>...</th>\n",
       "      <td>...</td>\n",
       "      <td>...</td>\n",
       "      <td>...</td>\n",
       "      <td>...</td>\n",
       "      <td>...</td>\n",
       "    </tr>\n",
       "    <tr>\n",
       "      <th>620</th>\n",
       "      <td>2022</td>\n",
       "      <td>Female</td>\n",
       "      <td>Post leaving cert</td>\n",
       "      <td>Immigrants: All origins</td>\n",
       "      <td>1200.0</td>\n",
       "    </tr>\n",
       "    <tr>\n",
       "      <th>622</th>\n",
       "      <td>2022</td>\n",
       "      <td>Female</td>\n",
       "      <td>Third level</td>\n",
       "      <td>Emigrants: All destinations</td>\n",
       "      <td>14400.0</td>\n",
       "    </tr>\n",
       "    <tr>\n",
       "      <th>623</th>\n",
       "      <td>2022</td>\n",
       "      <td>Female</td>\n",
       "      <td>Third level</td>\n",
       "      <td>Immigrants: All origins</td>\n",
       "      <td>40300.0</td>\n",
       "    </tr>\n",
       "    <tr>\n",
       "      <th>625</th>\n",
       "      <td>2022</td>\n",
       "      <td>Female</td>\n",
       "      <td>Not stated</td>\n",
       "      <td>Emigrants: All destinations</td>\n",
       "      <td>1300.0</td>\n",
       "    </tr>\n",
       "    <tr>\n",
       "      <th>626</th>\n",
       "      <td>2022</td>\n",
       "      <td>Female</td>\n",
       "      <td>Not stated</td>\n",
       "      <td>Immigrants: All origins</td>\n",
       "      <td>3900.0</td>\n",
       "    </tr>\n",
       "  </tbody>\n",
       "</table>\n",
       "<p>224 rows × 5 columns</p>\n",
       "</div>"
      ],
      "text/plain": [
       "     Year     Sex             Education_Level       Inward_or_Outward_Flow  \\\n",
       "16   2009    Male  Higher secondary and below  Emigrants: All destinations   \n",
       "17   2009    Male  Higher secondary and below      Immigrants: All origins   \n",
       "19   2009    Male           Post leaving cert  Emigrants: All destinations   \n",
       "20   2009    Male           Post leaving cert      Immigrants: All origins   \n",
       "22   2009    Male                 Third level  Emigrants: All destinations   \n",
       "..    ...     ...                         ...                          ...   \n",
       "620  2022  Female           Post leaving cert      Immigrants: All origins   \n",
       "622  2022  Female                 Third level  Emigrants: All destinations   \n",
       "623  2022  Female                 Third level      Immigrants: All origins   \n",
       "625  2022  Female                  Not stated  Emigrants: All destinations   \n",
       "626  2022  Female                  Not stated      Immigrants: All origins   \n",
       "\n",
       "       VALUE  \n",
       "16   18600.0  \n",
       "17   11700.0  \n",
       "19    5100.0  \n",
       "20    2900.0  \n",
       "22   13600.0  \n",
       "..       ...  \n",
       "620   1200.0  \n",
       "622  14400.0  \n",
       "623  40300.0  \n",
       "625   1300.0  \n",
       "626   3900.0  \n",
       "\n",
       "[224 rows x 5 columns]"
      ]
     },
     "execution_count": 10,
     "metadata": {},
     "output_type": "execute_result"
    }
   ],
   "source": [
    "# Loading the dataset:\n",
    "df3 = pd.read_csv('..\\\\Datasets_data.cso.ie\\\\PEA19.20231004T131056.csv')\n",
    "# Dropping the 'STATISTIC Label' column it's irrelevant for the analysis\n",
    "df3_col_drop = ['STATISTIC Label','UNIT']\n",
    "df3.drop(df3_col_drop ,axis=1, inplace=True) \n",
    "# Renaming the columns\n",
    "df3 = df3.rename(columns={'Education Level': 'Education_Level','Inward or Outward Flow':'Inward_or_Outward_Flow'})\n",
    "# Dropping rows based on criteria\n",
    "df3 = df3[~((df3['Sex'] == 'Both sexes') | (df3['Inward_or_Outward_Flow'] == 'Net migration') | (df3['Education_Level'] == 'All persons'))]\n",
    "\n",
    "df3['VALUE'] = df3['VALUE'].apply(lambda x: x * 1000)\n",
    "df3"
   ]
  },
  {
   "cell_type": "code",
   "execution_count": 11,
   "id": "8adf8520",
   "metadata": {},
   "outputs": [
    {
     "data": {
      "image/png": "[encoded data removed]",
      "text/plain": [
       "<Figure size 720x432 with 1 Axes>"
      ]
     },
     "metadata": {},
     "output_type": "display_data"
    }
   ],
   "source": [
    "# Preprocessing for categorical columns\n",
    "df3 = pd.get_dummies(df3, columns=['Sex', 'Education_Level', 'Inward_or_Outward_Flow'])\n",
    "\n",
    "# Define features and target variable\n",
    "X = df3.drop('VALUE', axis=1)\n",
    "y = df3['VALUE']\n",
    "\n",
    "# Split the data into training and testing sets\n",
    "X_train, X_test, y_train, y_test = train_test_split(X, y, test_size=0.2, random_state=42)\n",
    "\n",
    "# Fitting Random Forest regression model\n",
    "model = RandomForestRegressor()\n",
    "model.fit(X_train, y_train)\n",
    "\n",
    "# Plotting\n",
    "plt.figure(figsize=(10, 6))\n",
    "plt.plot(y_test.values, label='True')\n",
    "plt.plot(model.predict(X_test), label='Random Forest')\n",
    "plt.legend()\n",
    "plt.show()\n"
   ]
  },
  {
   "cell_type": "code",
   "execution_count": 12,
   "id": "9bfe734e",
   "metadata": {},
   "outputs": [
    {
     "name": "stdout",
     "output_type": "stream",
     "text": [
      "Random Forest Mean Squared Error: 6905433.644444444\n",
      "Random Forest Mean Absolute Error: 1583.5555555555557\n"
     ]
    }
   ],
   "source": [
    "from sklearn.metrics import mean_squared_error, mean_absolute_error\n",
    "\n",
    "# Predict on the test set\n",
    "y_pred = model.predict(X_test)\n",
    "\n",
    "# Compute mean squared error\n",
    "mse = mean_squared_error(y_test, y_pred)\n",
    "print(f\"Random Forest Mean Squared Error: {mse}\")\n",
    "\n",
    "# Compute mean absolute error\n",
    "mae = mean_absolute_error(y_test, y_pred)\n",
    "print(f\"Random Forest Mean Absolute Error: {mae}\")\n"
   ]
  },
  {
   "cell_type": "code",
   "execution_count": 13,
   "id": "b4c5eace",
   "metadata": {},
   "outputs": [
    {
     "name": "stdout",
     "output_type": "stream",
     "text": [
      "Training Mean Squared Error: 583874.5251396648\n",
      "Training Mean Absolute Error: 555.0502793296089\n",
      "Testing Mean Squared Error: 6770953.8\n",
      "Testing Mean Absolute Error: 1596.9555555555555\n"
     ]
    }
   ],
   "source": [
    "# Assuming X and y are your feature and target variables\n",
    "# Split the data into training and testing sets\n",
    "X_train, X_test, y_train, y_test = train_test_split(X, y, test_size=0.2, random_state=42)\n",
    "\n",
    "# Train the model\n",
    "model = RandomForestRegressor()\n",
    "model.fit(X_train, y_train)\n",
    "\n",
    "# Make predictions\n",
    "y_pred_train = model.predict(X_train)\n",
    "y_pred_test = model.predict(X_test)\n",
    "\n",
    "# Calculate mean squared error and mean absolute error for training and testing datasets\n",
    "mse_train = mean_squared_error(y_train, y_pred_train)\n",
    "mae_train = mean_absolute_error(y_train, y_pred_train)\n",
    "mse_test = mean_squared_error(y_test, y_pred_test)\n",
    "mae_test = mean_absolute_error(y_test, y_pred_test)\n",
    "\n",
    "# Print the results\n",
    "print(\"Training Mean Squared Error:\", mse_train)\n",
    "print(\"Training Mean Absolute Error:\", mae_train)\n",
    "print(\"Testing Mean Squared Error:\", mse_test)\n",
    "print(\"Testing Mean Absolute Error:\", mae_test)\n",
    "\n",
    "# Compare the training and testing performance to assess whether the model is overfit or underfit"
   ]
  },
  {
   "cell_type": "markdown",
   "id": "05b6532d",
   "metadata": {},
   "source": [
    "Model is underfitted"
   ]
  },
  {
   "cell_type": "code",
   "execution_count": 14,
   "id": "55b962f4",
   "metadata": {},
   "outputs": [
    {
     "name": "stdout",
     "output_type": "stream",
     "text": [
      "Training Mean Squared Error: 825471.6785714285\n",
      "Training Mean Absolute Error: 618.3571428571429\n",
      "Testing Mean Squared Error: 6752319.741071428\n",
      "Testing Mean Absolute Error: 1773.0267857142858\n"
     ]
    }
   ],
   "source": [
    "# Assuming X and y are your feature and target variables\n",
    "# Split the data into training and testing sets\n",
    "X_train, X_test, y_train, y_test = train_test_split(X, y, test_size=0.5, random_state=42)\n",
    "\n",
    "# Train the model\n",
    "model = RandomForestRegressor()\n",
    "model.fit(X_train, y_train)\n",
    "\n",
    "# Make predictions\n",
    "y_pred_train = model.predict(X_train)\n",
    "y_pred_test = model.predict(X_test)\n",
    "\n",
    "# Calculate mean squared error and mean absolute error for training and testing datasets\n",
    "mse_train = mean_squared_error(y_train, y_pred_train)\n",
    "mae_train = mean_absolute_error(y_train, y_pred_train)\n",
    "mse_test = mean_squared_error(y_test, y_pred_test)\n",
    "mae_test = mean_absolute_error(y_test, y_pred_test)\n",
    "\n",
    "# Print the results\n",
    "print(\"Training Mean Squared Error:\", mse_train)\n",
    "print(\"Training Mean Absolute Error:\", mae_train)\n",
    "print(\"Testing Mean Squared Error:\", mse_test)\n",
    "print(\"Testing Mean Absolute Error:\", mae_test)\n",
    "\n",
    "# Compare the training and testing performance to assess whether the model is overfit or underfit"
   ]
  },
  {
   "cell_type": "markdown",
   "id": "085eb623",
   "metadata": {},
   "source": [
    "By changing the test size the model is overfitted"
   ]
  },
  {
   "cell_type": "markdown",
   "id": "a6ff7e1c",
   "metadata": {},
   "source": [
    "# Evaluating the performance of linear regression models on PEA04.20231004T131011.csv"
   ]
  },
  {
   "cell_type": "code",
   "execution_count": 15,
   "id": "9a2bc39f",
   "metadata": {},
   "outputs": [],
   "source": [
    "# Loading the dataset:\n",
    "df4 = pd.read_csv('..\\\\Datasets_data.cso.ie\\\\PEA04.20231004T131011.csv')"
   ]
  },
  {
   "cell_type": "code",
   "execution_count": 16,
   "id": "7ba2088b",
   "metadata": {},
   "outputs": [
    {
     "name": "stdout",
     "output_type": "stream",
     "text": [
      "<class 'pandas.core.frame.DataFrame'>\n",
      "RangeIndex: 6669 entries, 0 to 6668\n",
      "Data columns (total 7 columns):\n",
      " #   Column           Non-Null Count  Dtype  \n",
      "---  ------           --------------  -----  \n",
      " 0   STATISTIC Label  6669 non-null   object \n",
      " 1   Year             6669 non-null   int64  \n",
      " 2   Age Group        6669 non-null   object \n",
      " 3   Sex              6669 non-null   object \n",
      " 4   Region           6669 non-null   object \n",
      " 5   UNIT             6669 non-null   object \n",
      " 6   VALUE            6669 non-null   float64\n",
      "dtypes: float64(1), int64(1), object(5)\n",
      "memory usage: 364.8+ KB\n"
     ]
    }
   ],
   "source": [
    "df4.info()"
   ]
  },
  {
   "cell_type": "code",
   "execution_count": 17,
   "id": "0babfee1",
   "metadata": {},
   "outputs": [],
   "source": [
    "# Dropping the 'STATISTIC Label' column it's irrelevant for the analysis\n",
    "df4_col_drop = ['STATISTIC Label','UNIT']\n",
    "df4.drop(df4_col_drop ,axis=1, inplace=True) "
   ]
  },
  {
   "cell_type": "code",
   "execution_count": 18,
   "id": "a06d017e",
   "metadata": {},
   "outputs": [],
   "source": [
    "# Renaming the columns\n",
    "df4 = df4.rename(columns={'Age Group': 'Age_Group','VALUE':'Population'})"
   ]
  },
  {
   "cell_type": "code",
   "execution_count": 19,
   "id": "bf7b8599",
   "metadata": {},
   "outputs": [],
   "source": [
    "# Dropping rows based on criteria\n",
    "df4 = df4[~((df4['Age_Group'] == 'All ages') | (df4['Sex'] == 'Both sexes') | (df4['Region'] == 'State'))]"
   ]
  },
  {
   "cell_type": "code",
   "execution_count": 20,
   "id": "5a6bbf3f",
   "metadata": {},
   "outputs": [],
   "source": [
    "# Convert the 'value' column to the full number format\n",
    "df4['Population'] = df4['Population'].apply(lambda x: int(float(x) * 1000))"
   ]
  },
  {
   "cell_type": "code",
   "execution_count": 21,
   "id": "fedd42c3",
   "metadata": {},
   "outputs": [
    {
     "name": "stdout",
     "output_type": "stream",
     "text": [
      "Year          int64\n",
      "Age_Group     int32\n",
      "Sex           int32\n",
      "Region        int32\n",
      "Population    int64\n",
      "dtype: object\n"
     ]
    }
   ],
   "source": [
    "# obj_cols are the object columns\n",
    "obj_cols = ['Age_Group', 'Sex','Region']\n",
    "\n",
    "# Creating label encoder object\n",
    "label_encoder = LabelEncoder()\n",
    "\n",
    "# Encoding each of the object columns\n",
    "for col in obj_cols:\n",
    "    df4[col] = label_encoder.fit_transform(df4[col])\n",
    "\n",
    "# Columns encoded to int64 or float64\n",
    "print(df4.dtypes)"
   ]
  },
  {
   "cell_type": "code",
   "execution_count": 22,
   "id": "2f3ff6b8",
   "metadata": {},
   "outputs": [
    {
     "data": {
      "text/html": [
       "<div>\n",
       "<style scoped>\n",
       "    .dataframe tbody tr th:only-of-type {\n",
       "        vertical-align: middle;\n",
       "    }\n",
       "\n",
       "    .dataframe tbody tr th {\n",
       "        vertical-align: top;\n",
       "    }\n",
       "\n",
       "    .dataframe thead th {\n",
       "        text-align: right;\n",
       "    }\n",
       "</style>\n",
       "<table border=\"1\" class=\"dataframe\">\n",
       "  <thead>\n",
       "    <tr style=\"text-align: right;\">\n",
       "      <th></th>\n",
       "      <th>Year</th>\n",
       "      <th>Age_Group</th>\n",
       "      <th>Sex</th>\n",
       "      <th>Region</th>\n",
       "      <th>Population</th>\n",
       "    </tr>\n",
       "  </thead>\n",
       "  <tbody>\n",
       "    <tr>\n",
       "      <th>10</th>\n",
       "      <td>2011</td>\n",
       "      <td>0</td>\n",
       "      <td>1</td>\n",
       "      <td>0</td>\n",
       "      <td>15800</td>\n",
       "    </tr>\n",
       "    <tr>\n",
       "      <th>11</th>\n",
       "      <td>2011</td>\n",
       "      <td>0</td>\n",
       "      <td>1</td>\n",
       "      <td>7</td>\n",
       "      <td>16600</td>\n",
       "    </tr>\n",
       "    <tr>\n",
       "      <th>12</th>\n",
       "      <td>2011</td>\n",
       "      <td>0</td>\n",
       "      <td>1</td>\n",
       "      <td>3</td>\n",
       "      <td>18000</td>\n",
       "    </tr>\n",
       "    <tr>\n",
       "      <th>13</th>\n",
       "      <td>2011</td>\n",
       "      <td>0</td>\n",
       "      <td>1</td>\n",
       "      <td>5</td>\n",
       "      <td>16400</td>\n",
       "    </tr>\n",
       "    <tr>\n",
       "      <th>14</th>\n",
       "      <td>2011</td>\n",
       "      <td>0</td>\n",
       "      <td>1</td>\n",
       "      <td>6</td>\n",
       "      <td>25500</td>\n",
       "    </tr>\n",
       "    <tr>\n",
       "      <th>...</th>\n",
       "      <td>...</td>\n",
       "      <td>...</td>\n",
       "      <td>...</td>\n",
       "      <td>...</td>\n",
       "      <td>...</td>\n",
       "    </tr>\n",
       "    <tr>\n",
       "      <th>6637</th>\n",
       "      <td>2023</td>\n",
       "      <td>17</td>\n",
       "      <td>0</td>\n",
       "      <td>5</td>\n",
       "      <td>5000</td>\n",
       "    </tr>\n",
       "    <tr>\n",
       "      <th>6638</th>\n",
       "      <td>2023</td>\n",
       "      <td>17</td>\n",
       "      <td>0</td>\n",
       "      <td>6</td>\n",
       "      <td>8100</td>\n",
       "    </tr>\n",
       "    <tr>\n",
       "      <th>6639</th>\n",
       "      <td>2023</td>\n",
       "      <td>17</td>\n",
       "      <td>0</td>\n",
       "      <td>1</td>\n",
       "      <td>15500</td>\n",
       "    </tr>\n",
       "    <tr>\n",
       "      <th>6640</th>\n",
       "      <td>2023</td>\n",
       "      <td>17</td>\n",
       "      <td>0</td>\n",
       "      <td>2</td>\n",
       "      <td>6000</td>\n",
       "    </tr>\n",
       "    <tr>\n",
       "      <th>6641</th>\n",
       "      <td>2023</td>\n",
       "      <td>17</td>\n",
       "      <td>0</td>\n",
       "      <td>4</td>\n",
       "      <td>3000</td>\n",
       "    </tr>\n",
       "  </tbody>\n",
       "</table>\n",
       "<p>3744 rows × 5 columns</p>\n",
       "</div>"
      ],
      "text/plain": [
       "      Year  Age_Group  Sex  Region  Population\n",
       "10    2011          0    1       0       15800\n",
       "11    2011          0    1       7       16600\n",
       "12    2011          0    1       3       18000\n",
       "13    2011          0    1       5       16400\n",
       "14    2011          0    1       6       25500\n",
       "...    ...        ...  ...     ...         ...\n",
       "6637  2023         17    0       5        5000\n",
       "6638  2023         17    0       6        8100\n",
       "6639  2023         17    0       1       15500\n",
       "6640  2023         17    0       2        6000\n",
       "6641  2023         17    0       4        3000\n",
       "\n",
       "[3744 rows x 5 columns]"
      ]
     },
     "execution_count": 22,
     "metadata": {},
     "output_type": "execute_result"
    }
   ],
   "source": [
    "df4"
   ]
  },
  {
   "cell_type": "code",
   "execution_count": 23,
   "id": "f29e6171",
   "metadata": {},
   "outputs": [
    {
     "data": {
      "text/plain": [
       "((3744, 4), (3744,), (2620, 4), (1124, 4), (2620,), (1124,))"
      ]
     },
     "execution_count": 23,
     "metadata": {},
     "output_type": "execute_result"
    }
   ],
   "source": [
    "# Declare a variable named as 'X' and 'y'\n",
    "X = df4.iloc[:, :-1].values               # All features (independent varaibles) except Population\n",
    "y = df4['Population'].values                    # Target variable\n",
    "\n",
    "# Split the data into 70% and 30% by using a parameter test_size = 30\n",
    "X_train, X_test, y_train, y_test = train_test_split(X, y, test_size = 0.3, random_state = 0)\n",
    "\n",
    "# Display the size of the rows and columns\n",
    "X.shape, y.shape, X_train.shape, X_test.shape, y_train.shape, y_test.shape"
   ]
  },
  {
   "cell_type": "code",
   "execution_count": 24,
   "id": "d0bacd97",
   "metadata": {},
   "outputs": [
    {
     "name": "stdout",
     "output_type": "stream",
     "text": [
      "[15962.3416374  19684.82169819 10382.63564061 ... 15441.72637828\n",
      " 25016.04206233 15788.18243718] \t [ 5596.88819767 13005.25281002 20899.97122976 ... 26901.59513186\n",
      "  5818.29787528  4277.10699407]\n"
     ]
    }
   ],
   "source": [
    "# Initialise an object slr by calling a method named as 'LinearRegression()'\n",
    "slr = LinearRegression()\n",
    "\n",
    "# Training the model\n",
    "slr.fit(X_train, y_train)\n",
    "\n",
    "# Predict the results for the training and testing\n",
    "y_train_pred = slr.predict(X_train)\n",
    "y_test_pred = slr.predict(X_test)\n",
    "\n",
    "# Display the values of y_train_pred and y_test_pred\n",
    "print(y_train_pred, '\\t', y_test_pred)"
   ]
  },
  {
   "cell_type": "code",
   "execution_count": 25,
   "id": "ebfe4e1c",
   "metadata": {},
   "outputs": [
    {
     "data": {
      "image/png": "[encoded data removed]",
      "text/plain": [
       "<Figure size 432x288 with 1 Axes>"
      ]
     },
     "metadata": {},
     "output_type": "display_data"
    }
   ],
   "source": [
    "# Display the graph for the training and testing of the data\n",
    "plt.scatter(y_train_pred,  y_train_pred - y_train, c = 'blue', marker = 'o', label = 'Training data')\n",
    "plt.scatter(y_test_pred,  y_test_pred - y_test, c = 'lightgreen', marker = 's', label = 'Test data')\n",
    "plt.xlabel('Predicted values')\n",
    "plt.ylabel('Residuals')\n",
    "plt.legend(loc = 'upper left')\n",
    "plt.hlines(y = 0, xmin = 0, xmax = 1000, lw = 2, color = 'red')\n",
    "plt.xlim([0, 1000])\n",
    "plt.tight_layout()\n",
    "\n",
    "# plt.savefig('./figures/slr_residuals.png', dpi=300)\n",
    "plt.show()"
   ]
  },
  {
   "cell_type": "code",
   "execution_count": 26,
   "id": "6559f258",
   "metadata": {},
   "outputs": [
    {
     "name": "stdout",
     "output_type": "stream",
     "text": [
      "[  5662.3416374   -1515.17830181   6882.63564061 ...  -9258.27362172\n",
      "  14216.04206233 -13511.81756282]\n"
     ]
    }
   ],
   "source": [
    "print(y_train_pred - y_train)"
   ]
  },
  {
   "cell_type": "code",
   "execution_count": 27,
   "id": "3e145c23",
   "metadata": {},
   "outputs": [
    {
     "name": "stdout",
     "output_type": "stream",
     "text": [
      "MSE train: 98036858.394, test: 99443223.682\n",
      "R^2 train: 0.253, test: 0.230\n"
     ]
    }
   ],
   "source": [
    "\n",
    "# Display the means squared error and r2 score values\n",
    "print('MSE train: %.3f, test: %.3f' % (mean_squared_error(y_train, y_train_pred), mean_squared_error(y_test, y_test_pred)))\n",
    "print('R^2 train: %.3f, test: %.3f' % (r2_score(y_train, y_train_pred), r2_score(y_test, y_test_pred)))"
   ]
  },
  {
   "cell_type": "markdown",
   "id": "15d96c0f",
   "metadata": {},
   "source": [
    "# Ridge Regression"
   ]
  },
  {
   "cell_type": "code",
   "execution_count": 28,
   "id": "4d46105d",
   "metadata": {},
   "outputs": [
    {
     "name": "stdout",
     "output_type": "stream",
     "text": [
      "Training set score: 0.25\n",
      "Test set score: 0.23\n"
     ]
    }
   ],
   "source": [
    "# Train the Ridge() mode by calling a fit() method\n",
    "ridge = Ridge().fit(X_train, y_train)\n",
    "\n",
    "# Display the score by using ridge object\n",
    "print(\"Training set score: {:.2f}\".format(ridge.score(X_train, y_train)))\n",
    "print(\"Test set score: {:.2f}\".format(ridge.score(X_test, y_test)))"
   ]
  },
  {
   "cell_type": "code",
   "execution_count": 29,
   "id": "19fb8c9a",
   "metadata": {},
   "outputs": [
    {
     "name": "stdout",
     "output_type": "stream",
     "text": [
      "Training set score: 0.25\n",
      "Test set score: 0.23\n"
     ]
    }
   ],
   "source": [
    "# alpha = 10 is a parameter using a fit() method\n",
    "ridge10 = Ridge(alpha = 10).fit(X_train, y_train)\n",
    "\n",
    "# Display the score values for Ridge function\n",
    "print(\"Training set score: {:.2f}\".format(ridge10.score(X_train, y_train)))\n",
    "print(\"Test set score: {:.2f}\".format(ridge10.score(X_test, y_test)))"
   ]
  },
  {
   "cell_type": "code",
   "execution_count": 30,
   "id": "10bc3a7d",
   "metadata": {},
   "outputs": [
    {
     "name": "stdout",
     "output_type": "stream",
     "text": [
      "Training set score: 0.25\n",
      "Test set score: 0.23\n"
     ]
    }
   ],
   "source": [
    "# alpha = 0.1 is a parameter using a fit() method\n",
    "ridge01 = Ridge(alpha = 0.1).fit(X_train, y_train)\n",
    "\n",
    "# Display the score values for Ridge function\n",
    "print(\"Training set score: {:.2f}\".format(ridge01.score(X_train, y_train)))\n",
    "print(\"Test set score: {:.2f}\".format(ridge01.score(X_test, y_test)))"
   ]
  },
  {
   "cell_type": "markdown",
   "id": "9e4b7c87",
   "metadata": {},
   "source": [
    "# Lasso Regression"
   ]
  },
  {
   "cell_type": "code",
   "execution_count": 31,
   "id": "063901ad",
   "metadata": {},
   "outputs": [
    {
     "name": "stdout",
     "output_type": "stream",
     "text": [
      "Training set score: 0.25\n",
      "Test set score: 0.23\n",
      "Number of features used: 4\n"
     ]
    }
   ],
   "source": [
    "lasso = Lasso().fit(X_train, y_train)\n",
    "print(\"Training set score: {:.2f}\".format(lasso.score(X_train, y_train)))\n",
    "print(\"Test set score: {:.2f}\".format(lasso.score(X_test, y_test)))\n",
    "print(\"Number of features used: {}\".format(np.sum(lasso.coef_ != 0)))"
   ]
  },
  {
   "cell_type": "code",
   "execution_count": 32,
   "id": "e150f902",
   "metadata": {},
   "outputs": [
    {
     "name": "stdout",
     "output_type": "stream",
     "text": [
      "Training set score: 0.25\n",
      "Test set score: 0.23\n",
      "Number of features used: 4\n"
     ]
    }
   ],
   "source": [
    "# we increase the default setting of \"max_iter\",\n",
    "# otherwise the model would warn us that we should increase max_iter.\n",
    "lasso001 = Lasso(alpha=0.01).fit(X_train, y_train)\n",
    "print(\"Training set score: {:.2f}\".format(lasso001.score(X_train, y_train)))\n",
    "print(\"Test set score: {:.2f}\".format(lasso001.score(X_test, y_test)))\n",
    "print(\"Number of features used: {}\".format(np.sum(lasso001.coef_ != 0)))"
   ]
  },
  {
   "cell_type": "code",
   "execution_count": 33,
   "id": "e8f5b367",
   "metadata": {},
   "outputs": [
    {
     "name": "stdout",
     "output_type": "stream",
     "text": [
      "Training set score: 0.25\n",
      "Test set score: 0.23\n",
      "Number of features used: 4\n"
     ]
    }
   ],
   "source": [
    "lasso00001 = Lasso(alpha=0.0001).fit(X_train, y_train)\n",
    "print(\"Training set score: {:.2f}\".format(lasso00001.score(X_train, y_train)))\n",
    "print(\"Test set score: {:.2f}\".format(lasso00001.score(X_test, y_test)))\n",
    "print(\"Number of features used: {}\".format(np.sum(lasso00001.coef_ != 0)))"
   ]
  },
  {
   "cell_type": "markdown",
   "id": "fbe45588",
   "metadata": {},
   "source": [
    "# Decision tree regression"
   ]
  },
  {
   "cell_type": "code",
   "execution_count": 34,
   "id": "7bf9c8ae",
   "metadata": {},
   "outputs": [],
   "source": [
    "# Method or Function for Linear Regression plot\n",
    "def lin_regplot(X, y, model):\n",
    "    plt.scatter(X, y, c = 'blue')\n",
    "    plt.plot(X, model.predict(X), color = 'red', linewidth = 2)    \n",
    "    return"
   ]
  },
  {
   "cell_type": "code",
   "execution_count": 35,
   "id": "82d2e835",
   "metadata": {},
   "outputs": [
    {
     "data": {
      "image/png": "[encoded data removed]",
      "text/plain": [
       "<Figure size 432x288 with 1 Axes>"
      ]
     },
     "metadata": {},
     "output_type": "display_data"
    }
   ],
   "source": [
    "# Store the feature or attribute values in X and y\n",
    "X = df4[['Sex']].values\n",
    "y = df4['Population'].values\n",
    "\n",
    "# Initialise an object by calling a method DecisionTreeRegressor()\n",
    "tree = DecisionTreeRegressor(max_depth = 3)\n",
    "tree.fit(X, y)\n",
    "\n",
    "# Return a copy of the array collapsed into one dimension.\n",
    "sort_idx = X.flatten().argsort()\n",
    "\n",
    "lin_regplot(X[sort_idx], y[sort_idx], tree)\n",
    "plt.xlabel('Sex')\n",
    "plt.ylabel('Population')\n",
    "# plt.savefig('./figures/tree_regression.png', dpi = 300)\n",
    "plt.show()"
   ]
  },
  {
   "cell_type": "markdown",
   "id": "e7357776",
   "metadata": {},
   "source": [
    "# Random Forest regression"
   ]
  },
  {
   "cell_type": "code",
   "execution_count": 36,
   "id": "73700f63",
   "metadata": {},
   "outputs": [],
   "source": [
    "# Declaration of Varaibles\n",
    "X = df4.iloc[:, :-1].values          # Store all columns into an array (X) except last column, 'MEDV'\n",
    "y = df4['Population'].values               # Store last column into an array (y)\n",
    "\n",
    "# Use train_test_split method to split the data into 40% and 60%\n",
    "X_train, X_test, y_train, y_test = train_test_split(X, y, test_size = 0.4, random_state = 1)"
   ]
  },
  {
   "cell_type": "code",
   "execution_count": 37,
   "id": "78a447c0",
   "metadata": {},
   "outputs": [
    {
     "name": "stdout",
     "output_type": "stream",
     "text": [
      "R^2 train: 0.999, test: 0.995\n"
     ]
    }
   ],
   "source": [
    "# Create an object forest by calling a method RandomForestRegressor()\n",
    "forest = RandomForestRegressor(n_estimators = 1000, \n",
    "                               criterion='squared_error',  # Change 'mse' to 'squared_error'\n",
    "                               random_state = 1, \n",
    "                               n_jobs = -1)\n",
    "\n",
    "# Train the Model by calling a fit() method\n",
    "forest.fit(X_train, y_train)\n",
    "\n",
    "y_train_pred = forest.predict(X_train)\n",
    "y_test_pred = forest.predict(X_test)\n",
    "\n",
    "# Display the r2 score values\n",
    "print('R^2 train: %.3f, test: %.3f' % (r2_score(y_train, y_train_pred), r2_score(y_test, y_test_pred)))"
   ]
  },
  {
   "cell_type": "code",
   "execution_count": 38,
   "id": "fb645922",
   "metadata": {},
   "outputs": [
    {
     "data": {
      "image/png": "[encoded data removed]",
      "text/plain": [
       "<Figure size 432x288 with 1 Axes>"
      ]
     },
     "metadata": {},
     "output_type": "display_data"
    }
   ],
   "source": [
    "# Draw a scatter plot\n",
    "plt.scatter(y_train_pred,  \n",
    "            y_train_pred - y_train, \n",
    "            c = 'black', \n",
    "            marker = 'o', \n",
    "            s = 35,\n",
    "            alpha = 0.5,\n",
    "            label = 'Training data')\n",
    "plt.scatter(y_test_pred,  \n",
    "            y_test_pred - y_test, \n",
    "            c = 'lightgreen', \n",
    "            marker = 's', \n",
    "            s = 35,\n",
    "            alpha = 0.7,\n",
    "            label = 'Test data')\n",
    "\n",
    "plt.xlabel('Predicted values')\n",
    "plt.ylabel('Residuals')\n",
    "plt.legend(loc = 'upper left')\n",
    "plt.hlines(y = 0, xmin = -20, xmax = 50, lw = 2, color = 'red')\n",
    "plt.xlim([-20, 50])\n",
    "ax = plt.gca()\n",
    "ax.set_facecolor('#e6e6e6')  # Change the background color to light gray\n",
    "plt.tight_layout()\n",
    "\n",
    "# plt.savefig('./figures/slr_residuals.png', dpi=300)\n",
    "plt.show()"
   ]
  },
  {
   "cell_type": "code",
   "execution_count": null,
   "id": "ca0f2b1b",
   "metadata": {},
   "outputs": [],
   "source": []
  }
 ],
 "metadata": {
  "kernelspec": {
   "display_name": "Python 3 (ipykernel)",
   "language": "python",
   "name": "python3"
  },
  "language_info": {
   "codemirror_mode": {
    "name": "ipython",
    "version": 3
   },
   "file_extension": ".py",
   "mimetype": "text/x-python",
   "name": "python",
   "nbconvert_exporter": "python",
   "pygments_lexer": "ipython3",
   "version": "3.9.12"
  }
 },
 "nbformat": 4,
 "nbformat_minor": 5
}
